{
 "metadata": {
  "name": "",
  "signature": "sha256:2037425ebdec9612cd1d371bc042349e0719c4a1b74b2d56997f9c280fc51dcc"
 },
 "nbformat": 3,
 "nbformat_minor": 0,
 "worksheets": [
  {
   "cells": [
    {
     "cell_type": "markdown",
     "metadata": {},
     "source": [
      "# Here lives documentation for ``patched``\n",
      "<hr>\n",
      "Back to [GitHub repository](https://github.com/abetkin/patched)\n",
      "<hr>"
     ]
    },
    {
     "cell_type": "markdown",
     "metadata": {},
     "source": [
      "<a name=\"sections\"></a>"
     ]
    },
    {
     "cell_type": "markdown",
     "metadata": {},
     "source": [
      "# Sections\n",
      "- [Introductory examples](#intro)\n",
      "\n",
      "- [Assignment operators and lists - simple-add vs. add-AND operators](#pm_in_lists)"
     ]
    },
    {
     "cell_type": "markdown",
     "metadata": {},
     "source": [
      "<a name='intro'></a>\n",
      "<br>\n",
      "<br>"
     ]
    },
    {
     "cell_type": "markdown",
     "metadata": {},
     "source": [
      "## Introduction"
     ]
    },
    {
     "cell_type": "markdown",
     "metadata": {},
     "source": [
      "The most straightforward way to use the package is namely for patching. ``patched`` allows you to replace one callable with another.\n",
      "\n",
      "Let's see the"
     ]
    },
    {
     "cell_type": "markdown",
     "metadata": {},
     "source": [
      "###simplest example\n",
      "Suppose we have a `Calculator` class:"
     ]
    },
    {
     "cell_type": "code",
     "collapsed": false,
     "input": [
      "class Calculator:\n",
      "    def eval(self, string):\n",
      "        return eval(string)\n",
      "\n",
      "calc = Calculator()\n",
      "calc.eval('3+4')"
     ],
     "language": "python",
     "metadata": {},
     "outputs": [
      {
       "metadata": {},
       "output_type": "pyout",
       "prompt_number": 19,
       "text": [
        "7"
       ]
      }
     ],
     "prompt_number": 19
    },
    {
     "cell_type": "markdown",
     "metadata": {},
     "source": [
      "`PatchSuite` is a suite of patches. The suite below consists of 1 patch:"
     ]
    },
    {
     "cell_type": "code",
     "collapsed": false,
     "input": [
      "import random\n",
      "\n",
      "class BrokenCalc(PatchSuite):\n",
      "    \n",
      "    @patch(parent=Calculator)\n",
      "    def eval(self, string):\n",
      "        value = eval(string)\n",
      "        random_inacuracy = 0.01 * value * random.random()\n",
      "        return value + 0.01 + random_inacuracy\n",
      "\n",
      "with BrokenCalc():\n",
      "    print( calc.eval('3+4'))"
     ],
     "language": "python",
     "metadata": {},
     "outputs": [
      {
       "output_type": "stream",
       "stream": "stdout",
       "text": [
        "7.056692505367019\n"
       ]
      }
     ],
     "prompt_number": 20
    },
    {
     "cell_type": "markdown",
     "metadata": {},
     "source": [
      "`parent` is the object being patched (a module, for example). The above patch suite definition is equivalent to this:\n",
      "\n",
      "    class BrokenCalc(PatchSuite):\n",
      "        class Meta:\n",
      "            parent = Calculator\n",
      "    \n",
      "        @patch(wrapper_type=wrappers.Replacement)\n",
      "        def eval(self, string):\n",
      "            # ...\n",
      " \n",
      "(Keyword) arguments declared in `Meta` class are the default ones for each patch.\n",
      "\n",
      "`Replacement` wrapper type is the default one, so passing it has no effect. It means that the decorated function replaces the original function. The other available types are\n",
      "\n",
      "- `Hook`: a function that is executed after the original one, the return value of the latter being known\n",
      "\n",
      "- `Insertion`: inserted attribute is missing from the original parent object"
     ]
    },
    {
     "cell_type": "markdown",
     "metadata": {},
     "source": [
      "<br>\n",
      "Let's see a more interesting\n",
      "###example"
     ]
    },
    {
     "cell_type": "markdown",
     "metadata": {},
     "source": [
      "You know the `Counter` class from the `collections` module:\n"
     ]
    },
    {
     "cell_type": "code",
     "collapsed": false,
     "input": [
      "import collections\n",
      "\n",
      "collections.Counter('animal')"
     ],
     "language": "python",
     "metadata": {},
     "outputs": [
      {
       "metadata": {},
       "output_type": "pyout",
       "prompt_number": 3,
       "text": [
        "Counter({'a': 2, 'n': 1, 'i': 1, 'm': 1, 'l': 1})"
       ]
      }
     ],
     "prompt_number": 3
    },
    {
     "cell_type": "markdown",
     "metadata": {},
     "source": [
      "Let's make it count only to 0:"
     ]
    },
    {
     "cell_type": "code",
     "collapsed": false,
     "input": [
      "from patched import PatchSuite, patch\n",
      "from patched import wrappers\n",
      "\n",
      "@patch(parent=collections, attribute='Counter')\n",
      "class MyCounter(collections.Counter):\n",
      "    def __init__(self, *args, **kw):\n",
      "        c = collections.Counter(*args, **kw)\n",
      "        super().__init__(dict.fromkeys(c.keys(), 0))\n",
      "\n",
      "with PatchSuite([MyCounter.make_patch()]):\n",
      "    print( collections.Counter('animal'))"
     ],
     "language": "python",
     "metadata": {},
     "outputs": [
      {
       "output_type": "stream",
       "stream": "stdout",
       "text": [
        "MyCounter({'l': 0, 'm': 0, 'n': 0, 'a': 0, 'i': 0})\n"
       ]
      }
     ],
     "prompt_number": 6
    },
    {
     "cell_type": "markdown",
     "metadata": {},
     "source": [
      "The code seems to be totally different from the previous example. First: the callables being swapped are not functions, but classes. It's not the common and recommended way, but for the purposes of this introductory section..\n",
      "\n",
      "Second: patches are not collected from the testsuite declaration but passed to it explicitly. And somehow `MyCounter` has `make_patch` attribute..\n",
      "\n",
      "Well, `patch` is a class, and it's instance is meant to show \"I want to make a patch from this\". It defines `__call__()` method that accepts callable as a parameter which means `patch` instance can be used as a decorator. Only `patch` replaces the callable it decorates, so\n"
     ]
    },
    {
     "cell_type": "code",
     "collapsed": false,
     "input": [
      "type(MyCounter) == patch"
     ],
     "language": "python",
     "metadata": {},
     "outputs": [
      {
       "metadata": {},
       "output_type": "pyout",
       "prompt_number": 7,
       "text": [
        "True"
       ]
      }
     ],
     "prompt_number": 7
    },
    {
     "cell_type": "code",
     "collapsed": false,
     "input": [
      "MyCounter"
     ],
     "language": "python",
     "metadata": {},
     "outputs": [
      {
       "metadata": {},
       "output_type": "pyout",
       "prompt_number": 8,
       "text": [
        "{'wrapper_func': __main__.MyCounter,\n",
        " 'wrapper_type': patched.patching.wrappers.Replacement,\n",
        " 'attribute': 'Counter',\n",
        " 'parent': <module 'collections' from '/home/vitalii/.virtualenvs/gru3/lib/python3.4/collections/__init__.py'>}"
       ]
      }
     ],
     "prompt_number": 8
    },
    {
     "cell_type": "markdown",
     "metadata": {},
     "source": [
      "Yeah, `patch` inherits `dict`.\n",
      "\n",
      "As I said, `patch` instance only marks an attribute as a future patch and can provide parameters to it. The real patch is constucted here: "
     ]
    },
    {
     "cell_type": "code",
     "collapsed": false,
     "input": [
      "MyCounter.make_patch()"
     ],
     "language": "python",
     "metadata": {},
     "outputs": [
      {
       "metadata": {},
       "output_type": "pyout",
       "prompt_number": 9,
       "text": [
        "Patch collections.Counter"
       ]
      }
     ],
     "prompt_number": 9
    },
    {
     "cell_type": "code",
     "collapsed": false,
     "input": [
      "type(_)"
     ],
     "language": "python",
     "metadata": {},
     "outputs": [
      {
       "metadata": {},
       "output_type": "pyout",
       "prompt_number": 10,
       "text": [
        "patched.patching.base.Patch"
       ]
      }
     ],
     "prompt_number": 10
    },
    {
     "cell_type": "markdown",
     "metadata": {},
     "source": [
      "<br>"
     ]
    },
    {
     "cell_type": "markdown",
     "metadata": {},
     "source": [
      "Previous example didn't actually stop `Counter` from counting: it patched only it's `__init__` method, but you can do all sorts of operations with counters.\n",
      "\n",
      "Let's make a more\n",
      "\n",
      "### bulletproof example"
     ]
    },
    {
     "cell_type": "code",
     "collapsed": false,
     "input": [
      "class StopCounting(PatchSuite):\n",
      "    class Meta:\n",
      "        parent = collections.Counter\n",
      "    \n",
      "    @patch(wrapper_type=wrappers.Hook)\n",
      "    def _subtract_self(self, *args, _subtract=collections.Counter.subtract, **kw):\n",
      "        _subtract(self, **self)\n",
      "    \n",
      "    @patch()\n",
      "    def _return_self(self, *args,  **kw):\n",
      "        return self\n",
      "    \n",
      "    __init__ = update = subtract = _subtract_self\n",
      "    \n",
      "    __add__ = __sub__ = __or__ = __and__ = _return_self\n",
      "    \n",
      "    del _subtract_self, _return_self\n",
      "\n",
      "with StopCounting():\n",
      "    c = collections.Counter('animal')\n",
      "c"
     ],
     "language": "python",
     "metadata": {},
     "outputs": [
      {
       "metadata": {},
       "output_type": "pyout",
       "prompt_number": 32,
       "text": [
        "Counter({'i': 0, 'm': 0, 'l': 0, 'a': 0, 'n': 0})"
       ]
      }
     ],
     "prompt_number": 32
    },
    {
     "cell_type": "code",
     "collapsed": false,
     "input": [
      "c2 = collections.Counter('elephant')\n",
      "c2"
     ],
     "language": "python",
     "metadata": {},
     "outputs": [
      {
       "metadata": {},
       "output_type": "pyout",
       "prompt_number": 35,
       "text": [
        "Counter({'e': 2, 'l': 1, 'h': 1, 't': 1, 'p': 1, 'a': 1, 'n': 1})"
       ]
      }
     ],
     "prompt_number": 35
    },
    {
     "cell_type": "code",
     "collapsed": false,
     "input": [
      "with StopCounting():\n",
      "    print('union gives %s' % (c | c2))"
     ],
     "language": "python",
     "metadata": {},
     "outputs": [
      {
       "output_type": "stream",
       "stream": "stdout",
       "text": [
        "union gives Counter({'i': 0, 'm': 0, 'l': 0, 'a': 0, 'n': 0})\n"
       ]
      }
     ],
     "prompt_number": 36
    },
    {
     "cell_type": "markdown",
     "metadata": {},
     "source": [
      "As you see, we are back with the initial style of declaring patches. All methods that update our instance subtract itself in the end, and all methods that return new instance return self. A little more explanation:\n",
      "\n",
      "- Patches `_subtract_self` and `_return_self` are deleted from class namespace and won't be collected.\n",
      "\n",
      "- In `_subtract_self` we provide"
     ]
    },
    {
     "cell_type": "code",
     "collapsed": false,
     "input": [],
     "language": "python",
     "metadata": {},
     "outputs": []
    }
   ],
   "metadata": {}
  }
 ]
}