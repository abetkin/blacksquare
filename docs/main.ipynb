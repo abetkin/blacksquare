{
 "metadata": {
  "name": "",
  "signature": "sha256:40ab234f75d0c1ef3b2f2d3dffadac0bd136aaef1520942f6d9cf67d30fe95ca"
 },
 "nbformat": 3,
 "nbformat_minor": 0,
 "worksheets": [
  {
   "cells": [
    {
     "cell_type": "markdown",
     "metadata": {},
     "source": [
      "# Here lives documentation for ``patched``\n",
      "<hr>\n",
      "Back to [GitHub repository](https://github.com/abetkin/patched)\n",
      "<hr>"
     ]
    },
    {
     "cell_type": "markdown",
     "metadata": {},
     "source": [
      "<a name=\"sections\"></a>"
     ]
    },
    {
     "cell_type": "markdown",
     "metadata": {},
     "source": [
      "# Sections\n",
      "- [Introductory examples](#intro)\n",
      "\n",
      "- [\"Global\" objects: config, storage, logger](#global_objects)\n",
      "\n",
      "- [Smart logging](#logger)\n",
      "\n",
      "- [Comparison with other frameworks](#comparison)\n",
      "\n",
      "- [Roadmap](#roadmap)\n",
      "\n",
      "- [Developer's API, a bit of internal structure](#developer_api)\n"
     ]
    },
    {
     "cell_type": "markdown",
     "metadata": {},
     "source": [
      "<a name='intro'></a>\n",
      "<br>\n",
      "<br>"
     ]
    },
    {
     "cell_type": "markdown",
     "metadata": {},
     "source": [
      "## Introductory examples"
     ]
    },
    {
     "cell_type": "markdown",
     "metadata": {},
     "source": [
      "The most straightforward way to use the package is namely for patching. ``patched`` allows you to replace one callable with another.\n",
      "\n",
      "Let's see the"
     ]
    },
    {
     "cell_type": "markdown",
     "metadata": {},
     "source": [
      "###simplest example\n",
      "Suppose we have a `Calculator` class:"
     ]
    },
    {
     "cell_type": "code",
     "collapsed": false,
     "input": [
      "class Calculator:\n",
      "    def eval(self, string):\n",
      "        return eval(string)\n",
      "\n",
      "calc = Calculator()\n",
      "calc.eval('3+4')"
     ],
     "language": "python",
     "metadata": {},
     "outputs": [
      {
       "metadata": {},
       "output_type": "pyout",
       "prompt_number": 2,
       "text": [
        "7"
       ]
      }
     ],
     "prompt_number": 2
    },
    {
     "cell_type": "markdown",
     "metadata": {},
     "source": [
      "`PatchSuite` is a suite of patches. The suite below consists of 1 patch:"
     ]
    },
    {
     "cell_type": "code",
     "collapsed": false,
     "input": [
      "import random\n",
      "from patched import PatchSuite, patch\n",
      "\n",
      "class BrokenCalc(PatchSuite):\n",
      "    \n",
      "    @patch(parent=Calculator)\n",
      "    def eval(self, string):\n",
      "        value = eval(string)\n",
      "        random_inacuracy = 0.01 * value * random.random()\n",
      "        return value + 0.01 + random_inacuracy\n",
      "\n",
      "with BrokenCalc():\n",
      "    print( calc.eval('3+4'))"
     ],
     "language": "python",
     "metadata": {},
     "outputs": [
      {
       "output_type": "stream",
       "stream": "stdout",
       "text": [
        "7.02036356258816\n"
       ]
      }
     ],
     "prompt_number": 4
    },
    {
     "cell_type": "markdown",
     "metadata": {},
     "source": [
      "`parent` is the object being patched (a module, for example). The above patch suite definition is equivalent to this:\n",
      "\n",
      "    class BrokenCalc(PatchSuite):\n",
      "        class Meta:\n",
      "            parent = Calculator\n",
      "    \n",
      "        @patch(wrapper_type=wrappers.Replacement)\n",
      "        def eval(self, string):\n",
      "            # ...\n",
      " \n",
      "(Keyword) arguments declared in `Meta` class are the default ones for each patch.\n",
      "\n",
      "`Replacement` wrapper type is the default one, so passing it has no effect. It means that the decorated function replaces the original function. The other available types are\n",
      "\n",
      "- `Hook`: the decorated function is executed after the original one, the return value of the latter being known\n",
      "\n",
      "- `Insertion`: inserted attribute is missing from the original parent object"
     ]
    },
    {
     "cell_type": "markdown",
     "metadata": {},
     "source": [
      "<br>\n",
      "Let's see a more interesting\n",
      "###example"
     ]
    },
    {
     "cell_type": "markdown",
     "metadata": {},
     "source": [
      "You know the `Counter` class from the `collections` module:\n"
     ]
    },
    {
     "cell_type": "code",
     "collapsed": false,
     "input": [
      "import collections\n",
      "\n",
      "collections.Counter('animal')"
     ],
     "language": "python",
     "metadata": {},
     "outputs": [
      {
       "metadata": {},
       "output_type": "pyout",
       "prompt_number": 5,
       "text": [
        "Counter({'a': 2, 'm': 1, 'i': 1, 'n': 1, 'l': 1})"
       ]
      }
     ],
     "prompt_number": 5
    },
    {
     "cell_type": "markdown",
     "metadata": {},
     "source": [
      "Let's make it count only to 0:"
     ]
    },
    {
     "cell_type": "code",
     "collapsed": false,
     "input": [
      "from patched import wrappers\n",
      "\n",
      "@patch(parent=collections, attribute='Counter')\n",
      "class MyCounter(collections.Counter):\n",
      "    def __init__(self, *args, **kw):\n",
      "        c = collections.Counter(*args, **kw)\n",
      "        zeros_dict = dict.fromkeys(c.keys(), 0)\n",
      "        super().__init__(zeros_dict)\n",
      "\n",
      "with PatchSuite([MyCounter.make_patch()]):\n",
      "    print( collections.Counter('animal'))"
     ],
     "language": "python",
     "metadata": {},
     "outputs": [
      {
       "output_type": "stream",
       "stream": "stdout",
       "text": [
        "MyCounter({'m': 0, 'i': 0, 'n': 0, 'a': 0, 'l': 0})\n"
       ]
      }
     ],
     "prompt_number": 22
    },
    {
     "cell_type": "markdown",
     "metadata": {},
     "source": [
      "The code seems to be totally different from the previous example. First: the callables being swapped are not functions, but classes (we replace `Counter` with `MyCounter`). It's not the common and recommended way, but for the purposes of this introductory section..\n",
      "\n",
      "Second: patches are not collected from the testsuite declaration but passed to it explicitly. And somehow `MyCounter` has `make_patch` attribute..\n",
      "\n",
      "Well, `patch` is a class, and it's instances are meant to show \"I want to make a patch out of this\". It defines `__call__()` method that accepts callable as a parameter which means `patch` instance can be used as a decorator. Only `patch` replaces the callable it decorates, so\n"
     ]
    },
    {
     "cell_type": "code",
     "collapsed": false,
     "input": [
      "type(MyCounter) == patch"
     ],
     "language": "python",
     "metadata": {},
     "outputs": [
      {
       "metadata": {},
       "output_type": "pyout",
       "prompt_number": 7,
       "text": [
        "True"
       ]
      }
     ],
     "prompt_number": 7
    },
    {
     "cell_type": "code",
     "collapsed": false,
     "input": [
      "MyCounter"
     ],
     "language": "python",
     "metadata": {},
     "outputs": [
      {
       "metadata": {},
       "output_type": "pyout",
       "prompt_number": 8,
       "text": [
        "{'wrapper_func': __main__.MyCounter,\n",
        " 'wrapper_type': patched.patching.wrappers.Replacement,\n",
        " 'attribute': 'Counter',\n",
        " 'parent': <module 'collections' from '/home/vitalii/.virtualenvs/gru3/lib/python3.4/collections/__init__.py'>}"
       ]
      }
     ],
     "prompt_number": 8
    },
    {
     "cell_type": "markdown",
     "metadata": {},
     "source": [
      "Yeah, `patch` inherits `dict`.\n",
      "\n",
      "As I said, `patch` instance only marks an attribute as a future patch and can provide parameters to it. The real patch is constucted here: "
     ]
    },
    {
     "cell_type": "code",
     "collapsed": false,
     "input": [
      "MyCounter.make_patch()"
     ],
     "language": "python",
     "metadata": {},
     "outputs": [
      {
       "metadata": {},
       "output_type": "pyout",
       "prompt_number": 9,
       "text": [
        "Patch collections.Counter"
       ]
      }
     ],
     "prompt_number": 9
    },
    {
     "cell_type": "code",
     "collapsed": false,
     "input": [
      "type(_)"
     ],
     "language": "python",
     "metadata": {},
     "outputs": [
      {
       "metadata": {},
       "output_type": "pyout",
       "prompt_number": 10,
       "text": [
        "patched.patching.base.Patch"
       ]
      }
     ],
     "prompt_number": 10
    },
    {
     "cell_type": "markdown",
     "metadata": {},
     "source": [
      "**Note:** inside the `MyCounter` callable we have used `collections.Counter(...)` and it really points to original callable there. That's because the patch is undone for the time of execution of our replacement callable. Respective lines from the source code:"
     ]
    },
    {
     "cell_type": "code",
     "collapsed": false,
     "input": [
      "load -r 31-35 ../patched/patching/wrappers.py"
     ],
     "language": "python",
     "metadata": {},
     "outputs": [],
     "prompt_number": 29
    },
    {
     "cell_type": "code",
     "collapsed": false,
     "input": [
      "            patch.off()\n",
      "            try:\n",
      "                return self.run(*args, **kwargs)\n",
      "            finally:\n",
      "                patch.on()"
     ],
     "language": "python",
     "metadata": {},
     "outputs": []
    },
    {
     "cell_type": "markdown",
     "metadata": {},
     "source": [
      "<hr>"
     ]
    },
    {
     "cell_type": "markdown",
     "metadata": {},
     "source": [
      "Previous example didn't actually stop `Counter` from counting: it patched only it's `__init__` method, but you can do all sorts of operations with counters.\n",
      "\n",
      "Let's make a more\n",
      "\n",
      "### bulletproof example"
     ]
    },
    {
     "cell_type": "code",
     "collapsed": false,
     "input": [
      "class StopCounting(PatchSuite):\n",
      "    class Meta:\n",
      "        parent = collections.Counter\n",
      "    \n",
      "    @patch(wrapper_type=wrappers.Hook)\n",
      "    def _subtract_self(self, *args, _subtract=collections.Counter.subtract, **kw):\n",
      "        _subtract(self, **self)\n",
      "    \n",
      "    @patch()\n",
      "    def _return_self(self, *args,  **kw):\n",
      "        return self\n",
      "    \n",
      "    __init__ = update = subtract = _subtract_self\n",
      "    \n",
      "    __add__ = __sub__ = __or__ = __and__ = _return_self\n",
      "    \n",
      "    del _subtract_self, _return_self\n",
      "\n",
      "with StopCounting():\n",
      "    c = collections.Counter('animal')\n",
      "c"
     ],
     "language": "python",
     "metadata": {},
     "outputs": [
      {
       "output_type": "stream",
       "stream": "stdout",
       "text": [
        "union gives Counter({'a': 2, 'm': 1, 'i': 1, 'n': 1, 'l': 1})\n"
       ]
      }
     ],
     "prompt_number": 21
    },
    {
     "cell_type": "code",
     "collapsed": false,
     "input": [
      "c2 = collections.Counter('elephant')\n",
      "c2"
     ],
     "language": "python",
     "metadata": {},
     "outputs": [
      {
       "metadata": {},
       "output_type": "pyout",
       "prompt_number": 35,
       "text": [
        "Counter({'e': 2, 'l': 1, 'h': 1, 't': 1, 'p': 1, 'a': 1, 'n': 1})"
       ]
      }
     ],
     "prompt_number": 35
    },
    {
     "cell_type": "code",
     "collapsed": false,
     "input": [
      "with StopCounting():\n",
      "    print('union gives %s' % (c | c2))"
     ],
     "language": "python",
     "metadata": {},
     "outputs": [
      {
       "output_type": "stream",
       "stream": "stdout",
       "text": [
        "union gives Counter({'i': 0, 'm': 0, 'l': 0, 'a': 0, 'n': 0})\n"
       ]
      }
     ],
     "prompt_number": 36
    },
    {
     "cell_type": "markdown",
     "metadata": {},
     "source": [
      "As you see, we are back with the initial style of declaring patches. All methods that update our instance subtract itself in the end, and all methods that return new instance return self. Patches `_subtract_self` and `_return_self` are deleted from class namespace and won't be collected.\n",
      "\n",
      "*Note*: Also inside the replacement function we can get access to a lot of attributes from the respective event. For that we do write\n",
      "\n",
      "    @patch(pass_event=True, **other_kw)\n",
      "    def replacement_func(*args, event, **kw):\n",
      "        ...\n",
      "\n",
      "but that won't be covered now. Here is how it may look in practice:"
     ]
    },
    {
     "cell_type": "code",
     "collapsed": false,
     "input": [
      "class StopCounting(PatchSuite):\n",
      "    class Meta:\n",
      "        parent = collections.Counter\n",
      "    \n",
      "    @patch(wrapper_type=wrappers.Hook)\n",
      "    def _subtract_self(self, *args, _subtract=collections.Counter.subtract, **kw):\n",
      "        _subtract(self, **self)\n",
      "    \n",
      "    @patch(pass_event=True)\n",
      "    def _return_counter(self, *args, event, _subtract=collections.Counter.subtract, **kw):\n",
      "        ret = event.wrapped_func(self, *args, **kw)\n",
      "        _subtract(ret, **ret)\n",
      "        return ret\n",
      "    \n",
      "    __init__ = update = subtract = _subtract_self\n",
      "    \n",
      "    __add__ = __sub__ = __or__ = __and__ = _return_counter\n",
      "    \n",
      "    del _subtract_self, _return_counter\n",
      "\n",
      "c2 = collections.Counter('elephant')\n",
      "c = collections.Counter('animal')\n",
      "with StopCounting():\n",
      "    print('union gives %s' % (c | c2))"
     ],
     "language": "python",
     "metadata": {},
     "outputs": [
      {
       "output_type": "stream",
       "stream": "stdout",
       "text": [
        "union gives Counter({'m': 0, 'l': 0, 'n': 0, 'i': 0, 'h': 0, 'e': 0, 't': 0, 'a': 0, 'p': 0})\n"
       ]
      }
     ],
     "prompt_number": 20
    },
    {
     "cell_type": "markdown",
     "metadata": {},
     "source": [
      "<a name='global_objects'></a>\n",
      "<br>\n",
      "<br>"
     ]
    },
    {
     "cell_type": "markdown",
     "metadata": {},
     "source": [
      "## \"Global\" objects: config, storage, logger"
     ]
    },
    {
     "cell_type": "markdown",
     "metadata": {},
     "source": [
      "These are actually not global, but threadlocal objects: they are global for this thread. To get the current instance you use `.instance()`, to construct new instance you instantiate the object:"
     ]
    },
    {
     "cell_type": "code",
     "collapsed": false,
     "input": [
      "from patched.core.threadlocal import ThreadLocalMixin\n"
     ],
     "language": "python",
     "metadata": {},
     "outputs": [],
     "prompt_number": 30
    },
    {
     "cell_type": "markdown",
     "metadata": {},
     "source": [
      "- Config\n",
      "\n",
      "   "
     ]
    }
   ],
   "metadata": {}
  }
 ]
}