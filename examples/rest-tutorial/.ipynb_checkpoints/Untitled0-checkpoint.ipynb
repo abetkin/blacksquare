{
 "metadata": {
  "name": "",
  "signature": "sha256:ad94e22c98b85f164c6c3292c2e234c1d98789eb2deaa6f5cf74d8352e0e6ddf"
 },
 "nbformat": 3,
 "nbformat_minor": 0,
 "worksheets": []
}