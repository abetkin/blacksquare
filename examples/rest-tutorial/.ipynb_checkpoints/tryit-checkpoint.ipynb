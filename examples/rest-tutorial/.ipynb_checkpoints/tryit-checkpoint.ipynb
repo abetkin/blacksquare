{
 "metadata": {
  "name": "",
  "signature": "sha256:b94125731ade6b0b038f9320f6f18c399a709e9881e12c055ca163f061660db4"
 },
 "nbformat": 3,
 "nbformat_minor": 0,
 "worksheets": [
  {
   "cells": [
    {
     "cell_type": "code",
     "collapsed": false,
     "input": [
      "import django\n",
      "django.get_version()\n",
      "import os\n",
      "os.environ['DJANGO_SETTINGS_MODULE'] = 'tutorial.settings'\n",
      "django.setup()"
     ],
     "language": "python",
     "metadata": {},
     "outputs": [],
     "prompt_number": 1
    },
    {
     "cell_type": "code",
     "collapsed": false,
     "input": [
      "!pip install django_extensions"
     ],
     "language": "python",
     "metadata": {},
     "outputs": [
      {
       "output_type": "stream",
       "stream": "stdout",
       "text": [
        "Downloading/unpacking django-extensions\r\n"
       ]
      },
      {
       "output_type": "stream",
       "stream": "stdout",
       "text": [
        "  Downloading django_extensions-1.3.11-py2.py3-none-any.whl (229kB): \r",
        "  Downloading django_extensions-1.3.11-py2.py3-none-any.whl (229kB):   1%  4.1kB\r",
        "  Downloading django_extensions-1.3.11-py2.py3-none-any.whl (229kB):   3%  8.2kB"
       ]
      },
      {
       "output_type": "stream",
       "stream": "stdout",
       "text": [
        "\r",
        "  Downloading django_extensions-1.3.11-py2.py3-none-any.whl (229kB):   5%  12kB \r",
        "  Downloading django_extensions-1.3.11-py2.py3-none-any.whl (229kB):   7%  16kB\r",
        "  Downloading django_extensions-1.3.11-py2.py3-none-any.whl (229kB):   8%  20kB\r",
        "  Downloading django_extensions-1.3.11-py2.py3-none-any.whl (229kB):  10%  24kB\r",
        "  Downloading django_extensions-1.3.11-py2.py3-none-any.whl (229kB):  12%  28kB\r",
        "  Downloading django_extensions-1.3.11-py2.py3-none-any.whl (229kB):  14%  32kB"
       ]
      },
      {
       "output_type": "stream",
       "stream": "stdout",
       "text": [
        "\r",
        "  Downloading django_extensions-1.3.11-py2.py3-none-any.whl (229kB):  16%  36kB\r",
        "  Downloading django_extensions-1.3.11-py2.py3-none-any.whl (229kB):  17%  40kB\r",
        "  Downloading django_extensions-1.3.11-py2.py3-none-any.whl (229kB):  19%  45kB\r",
        "  Downloading django_extensions-1.3.11-py2.py3-none-any.whl (229kB):  21%  49kB\r",
        "  Downloading django_extensions-1.3.11-py2.py3-none-any.whl (229kB):  23%  53kB\r",
        "  Downloading django_extensions-1.3.11-py2.py3-none-any.whl (229kB):  25%  57kB"
       ]
      },
      {
       "output_type": "stream",
       "stream": "stdout",
       "text": [
        "\r",
        "  Downloading django_extensions-1.3.11-py2.py3-none-any.whl (229kB):  26%  61kB\r",
        "  Downloading django_extensions-1.3.11-py2.py3-none-any.whl (229kB):  28%  65kB\r",
        "  Downloading django_extensions-1.3.11-py2.py3-none-any.whl (229kB):  30%  69kB\r",
        "  Downloading django_extensions-1.3.11-py2.py3-none-any.whl (229kB):  32%  73kB\r",
        "  Downloading django_extensions-1.3.11-py2.py3-none-any.whl (229kB):  33%  77kB\r",
        "  Downloading django_extensions-1.3.11-py2.py3-none-any.whl (229kB):  35%  81kB\r",
        "  Downloading django_extensions-1.3.11-py2.py3-none-any.whl (229kB):  37%  86kB\r",
        "  Downloading django_extensions-1.3.11-py2.py3-none-any.whl (229kB):  39%  90kB\r",
        "  Downloading django_extensions-1.3.11-py2.py3-none-any.whl (229kB):  41%  94kB\r",
        "  Downloading django_extensions-1.3.11-py2.py3-none-any.whl (229kB):  42%  98kB\r",
        "  Downloading django_extensions-1.3.11-py2.py3-none-any.whl (229kB):  44%  102kB\r",
        "  Downloading django_extensions-1.3.11-py2.py3-none-any.whl (229kB):  46%  106kB"
       ]
      },
      {
       "output_type": "stream",
       "stream": "stdout",
       "text": [
        "\r",
        "  Downloading django_extensions-1.3.11-py2.py3-none-any.whl (229kB):  48%  110kB\r",
        "  Downloading django_extensions-1.3.11-py2.py3-none-any.whl (229kB):  50%  114kB\r",
        "  Downloading django_extensions-1.3.11-py2.py3-none-any.whl (229kB):  51%  118kB\r",
        "  Downloading django_extensions-1.3.11-py2.py3-none-any.whl (229kB):  53%  122kB\r",
        "  Downloading django_extensions-1.3.11-py2.py3-none-any.whl (229kB):  55%  126kB\r",
        "  Downloading django_extensions-1.3.11-py2.py3-none-any.whl (229kB):  57%  131kB\r",
        "  Downloading django_extensions-1.3.11-py2.py3-none-any.whl (229kB):  58%  135kB\r",
        "  Downloading django_extensions-1.3.11-py2.py3-none-any.whl (229kB):  60%  139kB\r",
        "  Downloading django_extensions-1.3.11-py2.py3-none-any.whl (229kB):  62%  143kB\r",
        "  Downloading django_extensions-1.3.11-py2.py3-none-any.whl (229kB):  64%  147kB\r",
        "  Downloading django_extensions-1.3.11-py2.py3-none-any.whl (229kB):  66%  151kB\r",
        "  Downloading django_extensions-1.3.11-py2.py3-none-any.whl (229kB):  67%  155kB\r",
        "  Downloading django_extensions-1.3.11-py2.py3-none-any.whl (229kB):  69%  159kB\r",
        "  Downloading django_extensions-1.3.11-py2.py3-none-any.whl (229kB):  71%  163kB\r",
        "  Downloading django_extensions-1.3.11-py2.py3-none-any.whl (229kB):  73%  167kB\r",
        "  Downloading django_extensions-1.3.11-py2.py3-none-any.whl (229kB):  75%  172kB\r",
        "  Downloading django_extensions-1.3.11-py2.py3-none-any.whl (229kB):  76%  176kB\r",
        "  Downloading django_extensions-1.3.11-py2.py3-none-any.whl (229kB):  78%  180kB\r",
        "  Downloading django_extensions-1.3.11-py2.py3-none-any.whl (229kB):  80%  184kB\r",
        "  Downloading django_extensions-1.3.11-py2.py3-none-any.whl (229kB):  82%  188kB\r",
        "  Downloading django_extensions-1.3.11-py2.py3-none-any.whl (229kB):  84%  192kB\r",
        "  Downloading django_extensions-1.3.11-py2.py3-none-any.whl (229kB):  85%  196kB\r",
        "  Downloading django_extensions-1.3.11-py2.py3-none-any.whl (229kB):  87%  200kB\r",
        "  Downloading django_extensions-1.3.11-py2.py3-none-any.whl (229kB):  89%  204kB\r",
        "  Downloading django_extensions-1.3.11-py2.py3-none-any.whl (229kB):  91%  208kB\r",
        "  Downloading django_extensions-1.3.11-py2.py3-none-any.whl (229kB):  92%  212kB\r",
        "  Downloading django_extensions-1.3.11-py2.py3-none-any.whl (229kB):  94%  217kB\r",
        "  Downloading django_extensions-1.3.11-py2.py3-none-any.whl (229kB):  96%  221kB"
       ]
      },
      {
       "output_type": "stream",
       "stream": "stdout",
       "text": [
        "\r",
        "  Downloading django_extensions-1.3.11-py2.py3-none-any.whl (229kB):  98%  225kB\r",
        "  Downloading django_extensions-1.3.11-py2.py3-none-any.whl (229kB): 100%  229kB\r",
        "  Downloading django_extensions-1.3.11-py2.py3-none-any.whl (229kB):            \r",
        "  Downloading django_extensions-1.3.11-py2.py3-none-any.whl (229kB): 229kB downloaded\r\n",
        "Requirement already satisfied (use --upgrade to upgrade): six>=1.2 in /usr/lib/python2.7/site-packages (from django-extensions)\r\n"
       ]
      },
      {
       "output_type": "stream",
       "stream": "stdout",
       "text": [
        "Installing collected packages: django-extensions\r\n"
       ]
      },
      {
       "output_type": "stream",
       "stream": "stdout",
       "text": [
        "Successfully installed django-extensions\r\n",
        "Cleaning up...\r\n"
       ]
      }
     ],
     "prompt_number": 8
    },
    {
     "cell_type": "code",
     "collapsed": false,
     "input": [
      "from django.test import Client\n",
      "cl = Client()"
     ],
     "language": "python",
     "metadata": {},
     "outputs": [],
     "prompt_number": 2
    },
    {
     "cell_type": "code",
     "collapsed": false,
     "input": [
      "import groutines\n",
      "from scenario import IScenario"
     ],
     "language": "python",
     "metadata": {},
     "outputs": [],
     "prompt_number": 3
    },
    {
     "cell_type": "code",
     "collapsed": false,
     "input": [
      "def sce():\n",
      "    cl.get('/')"
     ],
     "language": "python",
     "metadata": {},
     "outputs": [],
     "prompt_number": 4
    },
    {
     "cell_type": "code",
     "collapsed": false,
     "input": [
      "IScenario(sce)"
     ],
     "language": "python",
     "metadata": {},
     "outputs": []
    },
    {
     "cell_type": "code",
     "collapsed": false,
     "input": [
      "_.wait(groutines.Event('RESP'))"
     ],
     "language": "python",
     "metadata": {},
     "outputs": [
      {
       "output_type": "stream",
       "stream": "stderr",
       "text": [
        "Internal Server Error: /\n",
        "Traceback (most recent call last):\n",
        "  File \"/home/vitalii/.virtualenvs/gru/lib/python2.7/site-packages/django/core/handlers/base.py\", line 111, in get_response\n",
        "    response = wrapped_callback(request, *callback_args, **callback_kwargs)\n",
        "  File \"/home/vitalii/.virtualenvs/gru/lib/python2.7/site-packages/django/views/generic/base.py\", line 69, in view\n",
        "    return self.dispatch(request, *args, **kwargs)\n",
        "  File \"/home/vitalii/projects/gr_other_branch/groutines.py\", line 226, in __call__\n",
        "    exit_value = self.event.fire(exit_info)\n",
        "  File \"/home/vitalii/projects/gr_other_branch/groutines.py\", line 127, in fire\n",
        "    listener.switch(value))\n",
        "  File \"/home/vitalii/projects/gr_other_branch/groutines.py\", line 48, in switch\n",
        "    self.handle_exception(exc)\n",
        "  File \"/home/vitalii/projects/gr_other_branch/groutines.py\", line 51, in handle_exception\n",
        "    raise exc\n",
        "ValueError: cyclic parent chain\n"
       ]
      },
      {
       "output_type": "stream",
       "stream": "stderr",
       "text": [
        "ERROR:django.request:Internal Server Error: /\n",
        "Traceback (most recent call last):\n",
        "  File \"/home/vitalii/.virtualenvs/gru/lib/python2.7/site-packages/django/core/handlers/base.py\", line 111, in get_response\n",
        "    response = wrapped_callback(request, *callback_args, **callback_kwargs)\n",
        "  File \"/home/vitalii/.virtualenvs/gru/lib/python2.7/site-packages/django/views/generic/base.py\", line 69, in view\n",
        "    return self.dispatch(request, *args, **kwargs)\n",
        "  File \"/home/vitalii/projects/gr_other_branch/groutines.py\", line 226, in __call__\n",
        "    exit_value = self.event.fire(exit_info)\n",
        "  File \"/home/vitalii/projects/gr_other_branch/groutines.py\", line 127, in fire\n",
        "    listener.switch(value))\n",
        "  File \"/home/vitalii/projects/gr_other_branch/groutines.py\", line 48, in switch\n",
        "    self.handle_exception(exc)\n",
        "  File \"/home/vitalii/projects/gr_other_branch/groutines.py\", line 51, in handle_exception\n",
        "    raise exc\n",
        "ValueError: cyclic parent chain\n"
       ]
      },
      {
       "output_type": "stream",
       "stream": "stdout",
       "text": [
        "<scenario.InteractiveScenario object at 0x25c69b0>\n",
        "<scenario.Scenario object at 0x25c6a50>\n",
        "<scenario.Scenario object at 0x25c6a50>\n",
        "<groutines.Groutine object at 0x29aa9b0>\n",
        "<class 'django.core.handlers.wsgi.WSGIRequest'> <rest_framework.routers.APIRoot object at 0x2ab1190>\n",
        "<groutines.Groutine object at 0x29aa9b0>\n",
        "http://testserver/snippets/\n"
       ]
      },
      {
       "ename": "ValueError",
       "evalue": "cyclic parent chain",
       "output_type": "pyerr",
       "traceback": [
        "\u001b[1;31m---------------------------------------------------------------------------\u001b[0m\n\u001b[1;31mValueError\u001b[0m                                Traceback (most recent call last)",
        "\u001b[1;32m<ipython-input-6-e451df7ed2fc>\u001b[0m in \u001b[0;36m<module>\u001b[1;34m()\u001b[0m\n\u001b[1;32m----> 1\u001b[1;33m \u001b[0m_\u001b[0m\u001b[1;33m.\u001b[0m\u001b[0mwait\u001b[0m\u001b[1;33m(\u001b[0m\u001b[0mgroutines\u001b[0m\u001b[1;33m.\u001b[0m\u001b[0mEvent\u001b[0m\u001b[1;33m(\u001b[0m\u001b[1;34m'RESP'\u001b[0m\u001b[1;33m)\u001b[0m\u001b[1;33m)\u001b[0m\u001b[1;33m\u001b[0m\u001b[0m\n\u001b[0m",
        "\u001b[1;32m/home/vitalii/projects/gr_other_branch/scenario.py\u001b[0m in \u001b[0;36mwait\u001b[1;34m(self, event, **listener_kwargs)\u001b[0m\n\u001b[0;32m     77\u001b[0m         \u001b[0mresponse\u001b[0m \u001b[1;33m=\u001b[0m \u001b[0mself\u001b[0m\u001b[1;33m.\u001b[0m\u001b[0mresponse\u001b[0m\u001b[1;33m\u001b[0m\u001b[0m\n\u001b[0;32m     78\u001b[0m         \u001b[0mself\u001b[0m\u001b[1;33m.\u001b[0m\u001b[0mresponse\u001b[0m \u001b[1;33m=\u001b[0m \u001b[0mNone\u001b[0m\u001b[1;33m\u001b[0m\u001b[0m\n\u001b[1;32m---> 79\u001b[1;33m         \u001b[0mself\u001b[0m\u001b[1;33m.\u001b[0m\u001b[0mswitch\u001b[0m\u001b[1;33m(\u001b[0m\u001b[0mresponse\u001b[0m\u001b[1;33m)\u001b[0m\u001b[1;33m\u001b[0m\u001b[0m\n\u001b[0m\u001b[0;32m     80\u001b[0m \u001b[1;33m\u001b[0m\u001b[0m\n\u001b[0;32m     81\u001b[0m \u001b[0mIScenario\u001b[0m \u001b[1;33m=\u001b[0m \u001b[0mInteractiveScenario\u001b[0m\u001b[1;33m\u001b[0m\u001b[0m\n",
        "\u001b[1;32m/home/vitalii/projects/gr_other_branch/scenario.py\u001b[0m in \u001b[0;36mrun\u001b[1;34m(self, *args, **kw)\u001b[0m\n\u001b[0;32m     61\u001b[0m                     \u001b[0mself\u001b[0m\u001b[1;33m.\u001b[0m\u001b[0mscenario\u001b[0m\u001b[1;33m.\u001b[0m\u001b[0mparent\u001b[0m \u001b[1;33m=\u001b[0m \u001b[0mself\u001b[0m\u001b[1;33m\u001b[0m\u001b[0m\n\u001b[0;32m     62\u001b[0m                     \u001b[1;32mprint\u001b[0m \u001b[0mself\u001b[0m\u001b[1;33m\u001b[0m\u001b[0m\n\u001b[1;32m---> 63\u001b[1;33m                     \u001b[0mvalue\u001b[0m \u001b[1;33m=\u001b[0m \u001b[0mself\u001b[0m\u001b[1;33m.\u001b[0m\u001b[0mscenario\u001b[0m\u001b[1;33m.\u001b[0m\u001b[0mswitch\u001b[0m\u001b[1;33m(\u001b[0m\u001b[1;33m)\u001b[0m\u001b[1;33m\u001b[0m\u001b[0m\n\u001b[0m\u001b[0;32m     64\u001b[0m                 \u001b[1;32melse\u001b[0m\u001b[1;33m:\u001b[0m\u001b[1;33m\u001b[0m\u001b[0m\n\u001b[0;32m     65\u001b[0m                     \u001b[0mvalue\u001b[0m \u001b[1;33m=\u001b[0m \u001b[0mswitch\u001b[0m\u001b[1;33m(\u001b[0m\u001b[0mresponse\u001b[0m\u001b[1;33m)\u001b[0m\u001b[1;33m\u001b[0m\u001b[0m\n",
        "\u001b[1;32m/home/vitalii/projects/gr_other_branch/scenario.py\u001b[0m in \u001b[0;36mrun\u001b[1;34m(self, *args, **kwargs)\u001b[0m\n\u001b[0;32m     27\u001b[0m             \u001b[0mself\u001b[0m\u001b[1;33m.\u001b[0m\u001b[0mgroutines\u001b[0m\u001b[1;33m.\u001b[0m\u001b[0mappend\u001b[0m\u001b[1;33m(\u001b[0m\u001b[0mgr\u001b[0m\u001b[1;33m)\u001b[0m\u001b[1;33m\u001b[0m\u001b[0m\n\u001b[0;32m     28\u001b[0m             \u001b[0mgr\u001b[0m\u001b[1;33m.\u001b[0m\u001b[0mswitch\u001b[0m\u001b[1;33m(\u001b[0m\u001b[1;33m)\u001b[0m\u001b[1;33m\u001b[0m\u001b[0m\n\u001b[1;32m---> 29\u001b[1;33m         \u001b[0mrv\u001b[0m \u001b[1;33m=\u001b[0m \u001b[0mself\u001b[0m\u001b[1;33m.\u001b[0m\u001b[0m_scenario\u001b[0m\u001b[1;33m(\u001b[0m\u001b[1;33m*\u001b[0m\u001b[0mself\u001b[0m\u001b[1;33m.\u001b[0m\u001b[0mscenario_args\u001b[0m\u001b[1;33m,\u001b[0m \u001b[1;33m**\u001b[0m\u001b[0mself\u001b[0m\u001b[1;33m.\u001b[0m\u001b[0mscenario_kwargs\u001b[0m\u001b[1;33m)\u001b[0m\u001b[1;33m\u001b[0m\u001b[0m\n\u001b[0m\u001b[0;32m     30\u001b[0m         \u001b[1;32mfor\u001b[0m \u001b[0mgr\u001b[0m \u001b[1;32min\u001b[0m \u001b[0mself\u001b[0m\u001b[1;33m.\u001b[0m\u001b[0mgroutines\u001b[0m\u001b[1;33m:\u001b[0m\u001b[1;33m\u001b[0m\u001b[0m\n\u001b[0;32m     31\u001b[0m             \u001b[0mgr\u001b[0m\u001b[1;33m.\u001b[0m\u001b[0mthrow\u001b[0m\u001b[1;33m(\u001b[0m\u001b[1;33m)\u001b[0m\u001b[1;33m\u001b[0m\u001b[0m\n",
        "\u001b[1;32m<ipython-input-4-06b375b932e7>\u001b[0m in \u001b[0;36msce\u001b[1;34m()\u001b[0m\n\u001b[0;32m      1\u001b[0m \u001b[1;32mdef\u001b[0m \u001b[0msce\u001b[0m\u001b[1;33m(\u001b[0m\u001b[1;33m)\u001b[0m\u001b[1;33m:\u001b[0m\u001b[1;33m\u001b[0m\u001b[0m\n\u001b[1;32m----> 2\u001b[1;33m     \u001b[0mcl\u001b[0m\u001b[1;33m.\u001b[0m\u001b[0mget\u001b[0m\u001b[1;33m(\u001b[0m\u001b[1;34m'/'\u001b[0m\u001b[1;33m)\u001b[0m\u001b[1;33m\u001b[0m\u001b[0m\n\u001b[0m",
        "\u001b[1;32m/home/vitalii/.virtualenvs/gru/lib/python2.7/site-packages/django/test/client.pyc\u001b[0m in \u001b[0;36mget\u001b[1;34m(self, path, data, follow, secure, **extra)\u001b[0m\n\u001b[0;32m    465\u001b[0m         \"\"\"\n\u001b[0;32m    466\u001b[0m         response = super(Client, self).get(path, data=data, secure=secure,\n\u001b[1;32m--> 467\u001b[1;33m                                            **extra)\n\u001b[0m\u001b[0;32m    468\u001b[0m         \u001b[1;32mif\u001b[0m \u001b[0mfollow\u001b[0m\u001b[1;33m:\u001b[0m\u001b[1;33m\u001b[0m\u001b[0m\n\u001b[0;32m    469\u001b[0m             \u001b[0mresponse\u001b[0m \u001b[1;33m=\u001b[0m \u001b[0mself\u001b[0m\u001b[1;33m.\u001b[0m\u001b[0m_handle_redirects\u001b[0m\u001b[1;33m(\u001b[0m\u001b[0mresponse\u001b[0m\u001b[1;33m,\u001b[0m \u001b[1;33m**\u001b[0m\u001b[0mextra\u001b[0m\u001b[1;33m)\u001b[0m\u001b[1;33m\u001b[0m\u001b[0m\n",
        "\u001b[1;32m/home/vitalii/.virtualenvs/gru/lib/python2.7/site-packages/django/test/client.pyc\u001b[0m in \u001b[0;36mget\u001b[1;34m(self, path, data, secure, **extra)\u001b[0m\n\u001b[0;32m    283\u001b[0m         }\n\u001b[0;32m    284\u001b[0m         \u001b[0mr\u001b[0m\u001b[1;33m.\u001b[0m\u001b[0mupdate\u001b[0m\u001b[1;33m(\u001b[0m\u001b[0mextra\u001b[0m\u001b[1;33m)\u001b[0m\u001b[1;33m\u001b[0m\u001b[0m\n\u001b[1;32m--> 285\u001b[1;33m         \u001b[1;32mreturn\u001b[0m \u001b[0mself\u001b[0m\u001b[1;33m.\u001b[0m\u001b[0mgeneric\u001b[0m\u001b[1;33m(\u001b[0m\u001b[1;34m'GET'\u001b[0m\u001b[1;33m,\u001b[0m \u001b[0mpath\u001b[0m\u001b[1;33m,\u001b[0m \u001b[0msecure\u001b[0m\u001b[1;33m=\u001b[0m\u001b[0msecure\u001b[0m\u001b[1;33m,\u001b[0m \u001b[1;33m**\u001b[0m\u001b[0mr\u001b[0m\u001b[1;33m)\u001b[0m\u001b[1;33m\u001b[0m\u001b[0m\n\u001b[0m\u001b[0;32m    286\u001b[0m \u001b[1;33m\u001b[0m\u001b[0m\n\u001b[0;32m    287\u001b[0m     def post(self, path, data=None, content_type=MULTIPART_CONTENT,\n",
        "\u001b[1;32m/home/vitalii/.virtualenvs/gru/lib/python2.7/site-packages/django/test/client.pyc\u001b[0m in \u001b[0;36mgeneric\u001b[1;34m(self, method, path, data, content_type, secure, **extra)\u001b[0m\n\u001b[0;32m    353\u001b[0m                 \u001b[0mquery_string\u001b[0m \u001b[1;33m=\u001b[0m \u001b[0mquery_string\u001b[0m\u001b[1;33m.\u001b[0m\u001b[0mdecode\u001b[0m\u001b[1;33m(\u001b[0m\u001b[1;34m'iso-8859-1'\u001b[0m\u001b[1;33m)\u001b[0m\u001b[1;33m\u001b[0m\u001b[0m\n\u001b[0;32m    354\u001b[0m             \u001b[0mr\u001b[0m\u001b[1;33m[\u001b[0m\u001b[1;34m'QUERY_STRING'\u001b[0m\u001b[1;33m]\u001b[0m \u001b[1;33m=\u001b[0m \u001b[0mquery_string\u001b[0m\u001b[1;33m\u001b[0m\u001b[0m\n\u001b[1;32m--> 355\u001b[1;33m         \u001b[1;32mreturn\u001b[0m \u001b[0mself\u001b[0m\u001b[1;33m.\u001b[0m\u001b[0mrequest\u001b[0m\u001b[1;33m(\u001b[0m\u001b[1;33m**\u001b[0m\u001b[0mr\u001b[0m\u001b[1;33m)\u001b[0m\u001b[1;33m\u001b[0m\u001b[0m\n\u001b[0m\u001b[0;32m    356\u001b[0m \u001b[1;33m\u001b[0m\u001b[0m\n\u001b[0;32m    357\u001b[0m \u001b[1;33m\u001b[0m\u001b[0m\n",
        "\u001b[1;32m/home/vitalii/.virtualenvs/gru/lib/python2.7/site-packages/django/test/client.pyc\u001b[0m in \u001b[0;36mrequest\u001b[1;34m(self, **request)\u001b[0m\n\u001b[0;32m    435\u001b[0m                 \u001b[0mexc_info\u001b[0m \u001b[1;33m=\u001b[0m \u001b[0mself\u001b[0m\u001b[1;33m.\u001b[0m\u001b[0mexc_info\u001b[0m\u001b[1;33m\u001b[0m\u001b[0m\n\u001b[0;32m    436\u001b[0m                 \u001b[0mself\u001b[0m\u001b[1;33m.\u001b[0m\u001b[0mexc_info\u001b[0m \u001b[1;33m=\u001b[0m \u001b[0mNone\u001b[0m\u001b[1;33m\u001b[0m\u001b[0m\n\u001b[1;32m--> 437\u001b[1;33m                 \u001b[0msix\u001b[0m\u001b[1;33m.\u001b[0m\u001b[0mreraise\u001b[0m\u001b[1;33m(\u001b[0m\u001b[1;33m*\u001b[0m\u001b[0mexc_info\u001b[0m\u001b[1;33m)\u001b[0m\u001b[1;33m\u001b[0m\u001b[0m\n\u001b[0m\u001b[0;32m    438\u001b[0m \u001b[1;33m\u001b[0m\u001b[0m\n\u001b[0;32m    439\u001b[0m             \u001b[1;31m# Save the client and request that stimulated the response.\u001b[0m\u001b[1;33m\u001b[0m\u001b[1;33m\u001b[0m\u001b[0m\n",
        "\u001b[1;32m/home/vitalii/.virtualenvs/gru/lib/python2.7/site-packages/django/core/handlers/base.pyc\u001b[0m in \u001b[0;36mget_response\u001b[1;34m(self, request)\u001b[0m\n\u001b[0;32m    109\u001b[0m                 \u001b[0mwrapped_callback\u001b[0m \u001b[1;33m=\u001b[0m \u001b[0mself\u001b[0m\u001b[1;33m.\u001b[0m\u001b[0mmake_view_atomic\u001b[0m\u001b[1;33m(\u001b[0m\u001b[0mcallback\u001b[0m\u001b[1;33m)\u001b[0m\u001b[1;33m\u001b[0m\u001b[0m\n\u001b[0;32m    110\u001b[0m                 \u001b[1;32mtry\u001b[0m\u001b[1;33m:\u001b[0m\u001b[1;33m\u001b[0m\u001b[0m\n\u001b[1;32m--> 111\u001b[1;33m                     \u001b[0mresponse\u001b[0m \u001b[1;33m=\u001b[0m \u001b[0mwrapped_callback\u001b[0m\u001b[1;33m(\u001b[0m\u001b[0mrequest\u001b[0m\u001b[1;33m,\u001b[0m \u001b[1;33m*\u001b[0m\u001b[0mcallback_args\u001b[0m\u001b[1;33m,\u001b[0m \u001b[1;33m**\u001b[0m\u001b[0mcallback_kwargs\u001b[0m\u001b[1;33m)\u001b[0m\u001b[1;33m\u001b[0m\u001b[0m\n\u001b[0m\u001b[0;32m    112\u001b[0m                 \u001b[1;32mexcept\u001b[0m \u001b[0mException\u001b[0m \u001b[1;32mas\u001b[0m \u001b[0me\u001b[0m\u001b[1;33m:\u001b[0m\u001b[1;33m\u001b[0m\u001b[0m\n\u001b[0;32m    113\u001b[0m                     \u001b[1;31m# If the view raised an exception, run it through exception\u001b[0m\u001b[1;33m\u001b[0m\u001b[1;33m\u001b[0m\u001b[0m\n",
        "\u001b[1;32m/home/vitalii/.virtualenvs/gru/lib/python2.7/site-packages/django/views/generic/base.pyc\u001b[0m in \u001b[0;36mview\u001b[1;34m(request, *args, **kwargs)\u001b[0m\n\u001b[0;32m     67\u001b[0m             \u001b[0mself\u001b[0m\u001b[1;33m.\u001b[0m\u001b[0margs\u001b[0m \u001b[1;33m=\u001b[0m \u001b[0margs\u001b[0m\u001b[1;33m\u001b[0m\u001b[0m\n\u001b[0;32m     68\u001b[0m             \u001b[0mself\u001b[0m\u001b[1;33m.\u001b[0m\u001b[0mkwargs\u001b[0m \u001b[1;33m=\u001b[0m \u001b[0mkwargs\u001b[0m\u001b[1;33m\u001b[0m\u001b[0m\n\u001b[1;32m---> 69\u001b[1;33m             \u001b[1;32mreturn\u001b[0m \u001b[0mself\u001b[0m\u001b[1;33m.\u001b[0m\u001b[0mdispatch\u001b[0m\u001b[1;33m(\u001b[0m\u001b[0mrequest\u001b[0m\u001b[1;33m,\u001b[0m \u001b[1;33m*\u001b[0m\u001b[0margs\u001b[0m\u001b[1;33m,\u001b[0m \u001b[1;33m**\u001b[0m\u001b[0mkwargs\u001b[0m\u001b[1;33m)\u001b[0m\u001b[1;33m\u001b[0m\u001b[0m\n\u001b[0m\u001b[0;32m     70\u001b[0m \u001b[1;33m\u001b[0m\u001b[0m\n\u001b[0;32m     71\u001b[0m         \u001b[1;31m# take name and docstring from class\u001b[0m\u001b[1;33m\u001b[0m\u001b[1;33m\u001b[0m\u001b[0m\n",
        "\u001b[1;32m/home/vitalii/projects/gr_other_branch/groutines.py\u001b[0m in \u001b[0;36m__call__\u001b[1;34m(self, wrapped, instance, args, kwargs)\u001b[0m\n\u001b[0;32m    224\u001b[0m         exit_info = CallInfo(*args, type='EXIT', callable=wrapped,\n\u001b[0;32m    225\u001b[0m                 bound_arg=bound_arg, argnames=self.event._argnames, rv=rv, **kwargs)\n\u001b[1;32m--> 226\u001b[1;33m         \u001b[0mexit_value\u001b[0m \u001b[1;33m=\u001b[0m \u001b[0mself\u001b[0m\u001b[1;33m.\u001b[0m\u001b[0mevent\u001b[0m\u001b[1;33m.\u001b[0m\u001b[0mfire\u001b[0m\u001b[1;33m(\u001b[0m\u001b[0mexit_info\u001b[0m\u001b[1;33m)\u001b[0m\u001b[1;33m\u001b[0m\u001b[0m\n\u001b[0m\u001b[0;32m    227\u001b[0m         \u001b[0mrv\u001b[0m \u001b[1;33m=\u001b[0m \u001b[0mexit_value\u001b[0m \u001b[1;32mor\u001b[0m \u001b[0mrv\u001b[0m\u001b[1;33m\u001b[0m\u001b[0m\n\u001b[0;32m    228\u001b[0m \u001b[1;33m\u001b[0m\u001b[0m\n",
        "\u001b[1;32m/home/vitalii/projects/gr_other_branch/groutines.py\u001b[0m in \u001b[0;36mfire\u001b[1;34m(self, *args, **kwargs)\u001b[0m\n\u001b[0;32m    125\u001b[0m             \u001b[1;32mprint\u001b[0m \u001b[0mlistener\u001b[0m\u001b[1;33m.\u001b[0m\u001b[0m_groutine\u001b[0m\u001b[1;33m.\u001b[0m\u001b[0mparent\u001b[0m\u001b[1;33m\u001b[0m\u001b[0m\n\u001b[0;32m    126\u001b[0m             responses.append(\n\u001b[1;32m--> 127\u001b[1;33m                     listener.switch(value))\n\u001b[0m\u001b[0;32m    128\u001b[0m         \u001b[1;32mreturn\u001b[0m \u001b[0mself\u001b[0m\u001b[1;33m.\u001b[0m\u001b[0mprocess_responses\u001b[0m\u001b[1;33m(\u001b[0m\u001b[0mresponses\u001b[0m\u001b[1;33m)\u001b[0m\u001b[1;33m\u001b[0m\u001b[0m\n\u001b[0;32m    129\u001b[0m \u001b[1;33m\u001b[0m\u001b[0m\n",
        "\u001b[1;32m/home/vitalii/projects/gr_other_branch/groutines.py\u001b[0m in \u001b[0;36mswitch\u001b[1;34m(self, value)\u001b[0m\n\u001b[0;32m     46\u001b[0m             \u001b[1;32mreturn\u001b[0m \u001b[0mself\u001b[0m\u001b[1;33m.\u001b[0m\u001b[0m_groutine\u001b[0m\u001b[1;33m.\u001b[0m\u001b[0mswitch\u001b[0m\u001b[1;33m(\u001b[0m\u001b[0mvalue\u001b[0m\u001b[1;33m)\u001b[0m\u001b[1;33m\u001b[0m\u001b[0m\n\u001b[0;32m     47\u001b[0m         \u001b[1;32mexcept\u001b[0m \u001b[0mException\u001b[0m \u001b[1;32mas\u001b[0m \u001b[0mexc\u001b[0m\u001b[1;33m:\u001b[0m\u001b[1;33m\u001b[0m\u001b[0m\n\u001b[1;32m---> 48\u001b[1;33m             \u001b[0mself\u001b[0m\u001b[1;33m.\u001b[0m\u001b[0mhandle_exception\u001b[0m\u001b[1;33m(\u001b[0m\u001b[0mexc\u001b[0m\u001b[1;33m)\u001b[0m\u001b[1;33m\u001b[0m\u001b[0m\n\u001b[0m\u001b[0;32m     49\u001b[0m \u001b[1;33m\u001b[0m\u001b[0m\n\u001b[0;32m     50\u001b[0m     \u001b[1;32mdef\u001b[0m \u001b[0mhandle_exception\u001b[0m\u001b[1;33m(\u001b[0m\u001b[0mself\u001b[0m\u001b[1;33m,\u001b[0m \u001b[0mexc\u001b[0m\u001b[1;33m)\u001b[0m\u001b[1;33m:\u001b[0m\u001b[1;33m\u001b[0m\u001b[0m\n",
        "\u001b[1;32m/home/vitalii/projects/gr_other_branch/groutines.py\u001b[0m in \u001b[0;36mhandle_exception\u001b[1;34m(self, exc)\u001b[0m\n\u001b[0;32m     49\u001b[0m \u001b[1;33m\u001b[0m\u001b[0m\n\u001b[0;32m     50\u001b[0m     \u001b[1;32mdef\u001b[0m \u001b[0mhandle_exception\u001b[0m\u001b[1;33m(\u001b[0m\u001b[0mself\u001b[0m\u001b[1;33m,\u001b[0m \u001b[0mexc\u001b[0m\u001b[1;33m)\u001b[0m\u001b[1;33m:\u001b[0m\u001b[1;33m\u001b[0m\u001b[0m\n\u001b[1;32m---> 51\u001b[1;33m         \u001b[1;32mraise\u001b[0m \u001b[0mexc\u001b[0m\u001b[1;33m\u001b[0m\u001b[0m\n\u001b[0m\u001b[0;32m     52\u001b[0m \u001b[1;33m\u001b[0m\u001b[0m\n\u001b[0;32m     53\u001b[0m     \u001b[1;32mdef\u001b[0m \u001b[0m__getattr__\u001b[0m\u001b[1;33m(\u001b[0m\u001b[0mself\u001b[0m\u001b[1;33m,\u001b[0m \u001b[0mattr\u001b[0m\u001b[1;33m)\u001b[0m\u001b[1;33m:\u001b[0m\u001b[1;33m\u001b[0m\u001b[0m\n",
        "\u001b[1;31mValueError\u001b[0m: cyclic parent chain"
       ]
      }
     ],
     "prompt_number": 6
    },
    {
     "cell_type": "code",
     "collapsed": false,
     "input": [],
     "language": "python",
     "metadata": {},
     "outputs": []
    }
   ],
   "metadata": {}
  }
 ]
}